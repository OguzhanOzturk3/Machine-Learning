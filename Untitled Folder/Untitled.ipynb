{
 "cells": [
  {
   "cell_type": "code",
   "execution_count": 143,
   "id": "c9b20dd1",
   "metadata": {},
   "outputs": [
    {
     "name": "stdout",
     "output_type": "stream",
     "text": [
      "Prize = 3\n"
     ]
    }
   ],
   "source": [
    "import random\n",
    "\n",
    "doors = [1,2,3]\n",
    "prize = random.choice(doors)\n",
    "print(\"Prize = \"+ str(prize))"
   ]
  },
  {
   "cell_type": "code",
   "execution_count": 144,
   "id": "18c490a6",
   "metadata": {},
   "outputs": [
    {
     "name": "stdout",
     "output_type": "stream",
     "text": [
      "First Selection = 3\n"
     ]
    }
   ],
   "source": [
    "# selection = input(\"Select door '1', '2', or '3': \") #If you want to choose door use this line\n",
    "selection = random.choice(doors)  #choose ronadom door\n",
    "print(\"First Selection = \"+ str(selection))"
   ]
  },
  {
   "cell_type": "code",
   "execution_count": 145,
   "id": "47222eb4",
   "metadata": {},
   "outputs": [],
   "source": [
    "delete = random.choice(doors) #choose random door to delet\n",
    "while delete==prize or delete==selection: #the door mustn't be the prize door and first choosen dor\n",
    "    delete = random.choice(doors)"
   ]
  },
  {
   "cell_type": "code",
   "execution_count": 146,
   "id": "22b93dc4",
   "metadata": {},
   "outputs": [],
   "source": [
    "doors.remove(delete)  #delete the door which isnt prize and first choosen door\n",
    "doors.remove(selection) #delete the selected door to not choose again"
   ]
  },
  {
   "cell_type": "code",
   "execution_count": 147,
   "id": "fa34be78",
   "metadata": {},
   "outputs": [
    {
     "name": "stdout",
     "output_type": "stream",
     "text": [
      "Choose door\n",
      "You Lost\n"
     ]
    }
   ],
   "source": [
    "print(\"Choose door\")  \n",
    "# selection = input(doors)  #If you want to choose door use this line\n",
    "selection = random.choice(doors)    \n",
    "\n",
    "if selection ==prize:\n",
    "    print(\"Congratulation You Win\")\n",
    "else:\n",
    "    print(\"You Lost\")"
   ]
  },
  {
   "cell_type": "code",
   "execution_count": null,
   "id": "75f98de0",
   "metadata": {},
   "outputs": [],
   "source": []
  }
 ],
 "metadata": {
  "kernelspec": {
   "display_name": "Python 3 (ipykernel)",
   "language": "python",
   "name": "python3"
  },
  "language_info": {
   "codemirror_mode": {
    "name": "ipython",
    "version": 3
   },
   "file_extension": ".py",
   "mimetype": "text/x-python",
   "name": "python",
   "nbconvert_exporter": "python",
   "pygments_lexer": "ipython3",
   "version": "3.8.8"
  }
 },
 "nbformat": 4,
 "nbformat_minor": 5
}
